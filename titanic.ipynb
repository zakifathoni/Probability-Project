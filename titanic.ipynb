{
 "cells": [
  {
   "attachments": {},
   "cell_type": "markdown",
   "metadata": {},
   "source": [
    "### Proyek Analisis Probabilitas menggunakan Python\n",
    "\n",
    "##### Introduction\n",
    "\n",
    "Proyek ini akan melakukan analisis probabilitas pada dataset \"Titanic: Machine Learning from Disaster\" yang tersedia di Kaggle. Dataset ini berisi informasi tentang penumpang kapal Titanic dan apakah mereka selamat atau tidak selamat dari bencana tersebut. Tujuan proyek ini adalah untuk menjawab beberapa pertanyaan terkait peluang dan korelasi antara variabel dalam dataset ini.\n",
    "\n",
    "##### Research Question\n",
    "\n",
    "1. Berapa persentase penumpang yang selamat dari bencana Titanic?\n",
    "2. Apa hubungan antara usia dan kelangsungan hidup penumpang?\n",
    "3. Apakah jenis kelamin mempengaruhi kemungkinan seseorang selamat dari bencana Titanic?\n",
    "4. Apa korelasi antara biaya tiket dan kelas bisnis dengan kelangsungan hidup penumpang?\n",
    "\n",
    "### Data Preparation\n",
    "Pertama-tama, kita akan melakukan import terhadap paket-paket yang diperlukan dan membaca dataset dari file CSV menggunakan pandas.\n",
    "\n"
   ]
  },
  {
   "cell_type": "code",
   "execution_count": 42,
   "metadata": {},
   "outputs": [],
   "source": [
    "import numpy as np\n",
    "import pandas as pd\n",
    "import seaborn as sns\n",
    "import matplotlib.pyplot as plt\n",
    "%matplotlib inline\n",
    "\n",
    "# membaca data dari file csv\n",
    "df = pd.read_csv('train.csv')"
   ]
  },
  {
   "attachments": {},
   "cell_type": "markdown",
   "metadata": {},
   "source": [
    "Kemudian, kita akan melihat tabel statistik deskriptif dari dataset untuk mendapatkan pemahaman awal tentang variabel dalam dataset.\n",
    "\n",
    "### Melihat 5 data teratas"
   ]
  },
  {
   "cell_type": "code",
   "execution_count": 43,
   "metadata": {},
   "outputs": [
    {
     "data": {
      "text/html": [
       "<div>\n",
       "<style scoped>\n",
       "    .dataframe tbody tr th:only-of-type {\n",
       "        vertical-align: middle;\n",
       "    }\n",
       "\n",
       "    .dataframe tbody tr th {\n",
       "        vertical-align: top;\n",
       "    }\n",
       "\n",
       "    .dataframe thead th {\n",
       "        text-align: right;\n",
       "    }\n",
       "</style>\n",
       "<table border=\"1\" class=\"dataframe\">\n",
       "  <thead>\n",
       "    <tr style=\"text-align: right;\">\n",
       "      <th></th>\n",
       "      <th>PassengerId</th>\n",
       "      <th>Survived</th>\n",
       "      <th>Pclass</th>\n",
       "      <th>Name</th>\n",
       "      <th>Sex</th>\n",
       "      <th>Age</th>\n",
       "      <th>SibSp</th>\n",
       "      <th>Parch</th>\n",
       "      <th>Ticket</th>\n",
       "      <th>Fare</th>\n",
       "      <th>Cabin</th>\n",
       "      <th>Embarked</th>\n",
       "    </tr>\n",
       "  </thead>\n",
       "  <tbody>\n",
       "    <tr>\n",
       "      <th>0</th>\n",
       "      <td>1</td>\n",
       "      <td>0</td>\n",
       "      <td>3</td>\n",
       "      <td>Braund, Mr. Owen Harris</td>\n",
       "      <td>male</td>\n",
       "      <td>22.0</td>\n",
       "      <td>1</td>\n",
       "      <td>0</td>\n",
       "      <td>A/5 21171</td>\n",
       "      <td>7.2500</td>\n",
       "      <td>NaN</td>\n",
       "      <td>S</td>\n",
       "    </tr>\n",
       "    <tr>\n",
       "      <th>1</th>\n",
       "      <td>2</td>\n",
       "      <td>1</td>\n",
       "      <td>1</td>\n",
       "      <td>Cumings, Mrs. John Bradley (Florence Briggs Th...</td>\n",
       "      <td>female</td>\n",
       "      <td>38.0</td>\n",
       "      <td>1</td>\n",
       "      <td>0</td>\n",
       "      <td>PC 17599</td>\n",
       "      <td>71.2833</td>\n",
       "      <td>C85</td>\n",
       "      <td>C</td>\n",
       "    </tr>\n",
       "    <tr>\n",
       "      <th>2</th>\n",
       "      <td>3</td>\n",
       "      <td>1</td>\n",
       "      <td>3</td>\n",
       "      <td>Heikkinen, Miss. Laina</td>\n",
       "      <td>female</td>\n",
       "      <td>26.0</td>\n",
       "      <td>0</td>\n",
       "      <td>0</td>\n",
       "      <td>STON/O2. 3101282</td>\n",
       "      <td>7.9250</td>\n",
       "      <td>NaN</td>\n",
       "      <td>S</td>\n",
       "    </tr>\n",
       "    <tr>\n",
       "      <th>3</th>\n",
       "      <td>4</td>\n",
       "      <td>1</td>\n",
       "      <td>1</td>\n",
       "      <td>Futrelle, Mrs. Jacques Heath (Lily May Peel)</td>\n",
       "      <td>female</td>\n",
       "      <td>35.0</td>\n",
       "      <td>1</td>\n",
       "      <td>0</td>\n",
       "      <td>113803</td>\n",
       "      <td>53.1000</td>\n",
       "      <td>C123</td>\n",
       "      <td>S</td>\n",
       "    </tr>\n",
       "    <tr>\n",
       "      <th>4</th>\n",
       "      <td>5</td>\n",
       "      <td>0</td>\n",
       "      <td>3</td>\n",
       "      <td>Allen, Mr. William Henry</td>\n",
       "      <td>male</td>\n",
       "      <td>35.0</td>\n",
       "      <td>0</td>\n",
       "      <td>0</td>\n",
       "      <td>373450</td>\n",
       "      <td>8.0500</td>\n",
       "      <td>NaN</td>\n",
       "      <td>S</td>\n",
       "    </tr>\n",
       "  </tbody>\n",
       "</table>\n",
       "</div>"
      ],
      "text/plain": [
       "   PassengerId  Survived  Pclass  \\\n",
       "0            1         0       3   \n",
       "1            2         1       1   \n",
       "2            3         1       3   \n",
       "3            4         1       1   \n",
       "4            5         0       3   \n",
       "\n",
       "                                                Name     Sex   Age  SibSp  \\\n",
       "0                            Braund, Mr. Owen Harris    male  22.0      1   \n",
       "1  Cumings, Mrs. John Bradley (Florence Briggs Th...  female  38.0      1   \n",
       "2                             Heikkinen, Miss. Laina  female  26.0      0   \n",
       "3       Futrelle, Mrs. Jacques Heath (Lily May Peel)  female  35.0      1   \n",
       "4                           Allen, Mr. William Henry    male  35.0      0   \n",
       "\n",
       "   Parch            Ticket     Fare Cabin Embarked  \n",
       "0      0         A/5 21171   7.2500   NaN        S  \n",
       "1      0          PC 17599  71.2833   C85        C  \n",
       "2      0  STON/O2. 3101282   7.9250   NaN        S  \n",
       "3      0            113803  53.1000  C123        S  \n",
       "4      0            373450   8.0500   NaN        S  "
      ]
     },
     "execution_count": 43,
     "metadata": {},
     "output_type": "execute_result"
    }
   ],
   "source": [
    "df.head(5)"
   ]
  },
  {
   "attachments": {},
   "cell_type": "markdown",
   "metadata": {},
   "source": [
    "Dataset Titanic memiliki 12 kolom sebagai berikut:\n",
    "\n",
    "- PassengerId : Nomor identifikasi penumpang\n",
    "- Survived : Menandakan apakah penumpang selamat (1) atau tidak selamat (0)\n",
    "- Pclass : Kelas tiket penumpang (1,2,3)\n",
    "- Name : Nama penumpang\n",
    "- Sex : Jenis kelamin penumpang\n",
    "- Age : Usia penumpang pada saat naik ke kapal\n",
    "- SibSp : Jumlah saudara kandung / pasangan di atas kapal bersama penumpang\n",
    "- Parch : Jumlah orang tua / anak-anak di atas kapal bersama penumpang\n",
    "- Ticket : Nomor tiket\n",
    "- Fare : Biaya tiket\n",
    "- Cabin : Nomor kabin penumpang\n",
    "- Embarked : Pelabuhan asal penumpang (C = Cherbourg, Q = Queenstown, S = Southampton)\n",
    "\n",
    "Exploratory Data Analysis\n",
    "Selanjutnya kita akan melakukan Exploratory Data Analysis terhadap dataset Titanic.\n",
    "\n",
    "### Tabel Statistik Deskriptif"
   ]
  },
  {
   "cell_type": "code",
   "execution_count": 44,
   "metadata": {},
   "outputs": [
    {
     "data": {
      "text/html": [
       "<div>\n",
       "<style scoped>\n",
       "    .dataframe tbody tr th:only-of-type {\n",
       "        vertical-align: middle;\n",
       "    }\n",
       "\n",
       "    .dataframe tbody tr th {\n",
       "        vertical-align: top;\n",
       "    }\n",
       "\n",
       "    .dataframe thead th {\n",
       "        text-align: right;\n",
       "    }\n",
       "</style>\n",
       "<table border=\"1\" class=\"dataframe\">\n",
       "  <thead>\n",
       "    <tr style=\"text-align: right;\">\n",
       "      <th></th>\n",
       "      <th>PassengerId</th>\n",
       "      <th>Survived</th>\n",
       "      <th>Pclass</th>\n",
       "      <th>Age</th>\n",
       "      <th>SibSp</th>\n",
       "      <th>Parch</th>\n",
       "      <th>Fare</th>\n",
       "    </tr>\n",
       "  </thead>\n",
       "  <tbody>\n",
       "    <tr>\n",
       "      <th>count</th>\n",
       "      <td>891.000000</td>\n",
       "      <td>891.000000</td>\n",
       "      <td>891.000000</td>\n",
       "      <td>714.000000</td>\n",
       "      <td>891.000000</td>\n",
       "      <td>891.000000</td>\n",
       "      <td>891.000000</td>\n",
       "    </tr>\n",
       "    <tr>\n",
       "      <th>mean</th>\n",
       "      <td>446.000000</td>\n",
       "      <td>0.383838</td>\n",
       "      <td>2.308642</td>\n",
       "      <td>29.699118</td>\n",
       "      <td>0.523008</td>\n",
       "      <td>0.381594</td>\n",
       "      <td>32.204208</td>\n",
       "    </tr>\n",
       "    <tr>\n",
       "      <th>std</th>\n",
       "      <td>257.353842</td>\n",
       "      <td>0.486592</td>\n",
       "      <td>0.836071</td>\n",
       "      <td>14.526497</td>\n",
       "      <td>1.102743</td>\n",
       "      <td>0.806057</td>\n",
       "      <td>49.693429</td>\n",
       "    </tr>\n",
       "    <tr>\n",
       "      <th>min</th>\n",
       "      <td>1.000000</td>\n",
       "      <td>0.000000</td>\n",
       "      <td>1.000000</td>\n",
       "      <td>0.420000</td>\n",
       "      <td>0.000000</td>\n",
       "      <td>0.000000</td>\n",
       "      <td>0.000000</td>\n",
       "    </tr>\n",
       "    <tr>\n",
       "      <th>25%</th>\n",
       "      <td>223.500000</td>\n",
       "      <td>0.000000</td>\n",
       "      <td>2.000000</td>\n",
       "      <td>20.125000</td>\n",
       "      <td>0.000000</td>\n",
       "      <td>0.000000</td>\n",
       "      <td>7.910400</td>\n",
       "    </tr>\n",
       "    <tr>\n",
       "      <th>50%</th>\n",
       "      <td>446.000000</td>\n",
       "      <td>0.000000</td>\n",
       "      <td>3.000000</td>\n",
       "      <td>28.000000</td>\n",
       "      <td>0.000000</td>\n",
       "      <td>0.000000</td>\n",
       "      <td>14.454200</td>\n",
       "    </tr>\n",
       "    <tr>\n",
       "      <th>75%</th>\n",
       "      <td>668.500000</td>\n",
       "      <td>1.000000</td>\n",
       "      <td>3.000000</td>\n",
       "      <td>38.000000</td>\n",
       "      <td>1.000000</td>\n",
       "      <td>0.000000</td>\n",
       "      <td>31.000000</td>\n",
       "    </tr>\n",
       "    <tr>\n",
       "      <th>max</th>\n",
       "      <td>891.000000</td>\n",
       "      <td>1.000000</td>\n",
       "      <td>3.000000</td>\n",
       "      <td>80.000000</td>\n",
       "      <td>8.000000</td>\n",
       "      <td>6.000000</td>\n",
       "      <td>512.329200</td>\n",
       "    </tr>\n",
       "  </tbody>\n",
       "</table>\n",
       "</div>"
      ],
      "text/plain": [
       "       PassengerId    Survived      Pclass         Age       SibSp  \\\n",
       "count   891.000000  891.000000  891.000000  714.000000  891.000000   \n",
       "mean    446.000000    0.383838    2.308642   29.699118    0.523008   \n",
       "std     257.353842    0.486592    0.836071   14.526497    1.102743   \n",
       "min       1.000000    0.000000    1.000000    0.420000    0.000000   \n",
       "25%     223.500000    0.000000    2.000000   20.125000    0.000000   \n",
       "50%     446.000000    0.000000    3.000000   28.000000    0.000000   \n",
       "75%     668.500000    1.000000    3.000000   38.000000    1.000000   \n",
       "max     891.000000    1.000000    3.000000   80.000000    8.000000   \n",
       "\n",
       "            Parch        Fare  \n",
       "count  891.000000  891.000000  \n",
       "mean     0.381594   32.204208  \n",
       "std      0.806057   49.693429  \n",
       "min      0.000000    0.000000  \n",
       "25%      0.000000    7.910400  \n",
       "50%      0.000000   14.454200  \n",
       "75%      0.000000   31.000000  \n",
       "max      6.000000  512.329200  "
      ]
     },
     "execution_count": 44,
     "metadata": {},
     "output_type": "execute_result"
    }
   ],
   "source": [
    "# Tabel Statistik Deskriptif\n",
    "df.describe()"
   ]
  },
  {
   "attachments": {},
   "cell_type": "markdown",
   "metadata": {},
   "source": [
    "##### Dari tabel statistik deskriptif di atas, didapatkan informasi bahwa:\n",
    "\n",
    "- Jumlah data yang tersedia pada keseluruhan kolom adalah 891.\n",
    "- Rata-rata umur penumpang adalah 29.7 tahun dengan rentang usia antara 0.42 tahun hingga 80 tahun.\n",
    "- Persentase penumpang yang selamat adalah 38.4%\n",
    "- Rata-rata biaya tiket adalah $32.2 dengan rentang harga tiket mulai dari $0 hingga $512.3\n",
    "\n",
    "\n",
    "### Analisis Peluang pada Variabel Diskrit\n",
    "\n",
    "##### **Berapa persentase penumpang yang selamat dari bencana Titanic?**\n",
    "Untuk menjawab pertanyaan ini, kita bisa menghitung jumlah penumpang yang selamat dan menghitung persentasenya."
   ]
  },
  {
   "cell_type": "code",
   "execution_count": 45,
   "metadata": {},
   "outputs": [
    {
     "name": "stdout",
     "output_type": "stream",
     "text": [
      "Persentase Penumpang yang Selamat: 38.38%\n"
     ]
    }
   ],
   "source": [
    "# Jumlah penumpang yang selamat\n",
    "survived = df[df['Survived']==1]['Survived'].count()\n",
    "\n",
    "# Total jumlah penumpang\n",
    "total_passengers = df['PassengerId'].count()\n",
    "\n",
    "# Persentase penumpang yang selamat\n",
    "survival_rate = (survived / total_passengers) * 100\n",
    "\n",
    "print(\"Persentase Penumpang yang Selamat: {:.2f}%\".format(survival_rate))"
   ]
  },
  {
   "attachments": {},
   "cell_type": "markdown",
   "metadata": {},
   "source": [
    "##### **Apakah jenis kelamin mempengaruhi kemungkinan seseorang selamat dari bencana Titanic?**\n",
    "\n",
    "Kita dapat menghitung jumlah laki-laki dan perempuan yang selamat dan tidak selamat, kemudian menghitung persentasenya."
   ]
  },
  {
   "cell_type": "code",
   "execution_count": 46,
   "metadata": {},
   "outputs": [
    {
     "name": "stdout",
     "output_type": "stream",
     "text": [
      "Persentase Laki-laki yang Selamat: 74.20%\n",
      "Persentase Perempuan yang Selamat: 18.89%\n"
     ]
    }
   ],
   "source": [
    "# Jumlah laki-laki dan perempuan yang selamat dan tidak selamat\n",
    "survived_by_gender = df.groupby(['Sex','Survived'])['Survived'].count()\n",
    "survived_by_gender = survived_by_gender.unstack(level=-1)\n",
    "\n",
    "# Persentase laki-laki dan perempuan yang selamat\n",
    "survival_rate_by_gender = survived_by_gender[1] / (survived_by_gender[0] + survived_by_gender[1]) * 100\n",
    "\n",
    "print(\"Persentase Laki-laki yang Selamat: {:.2f}%\".format(survival_rate_by_gender[0]))\n",
    "print(\"Persentase Perempuan yang Selamat: {:.2f}%\".format(survival_rate_by_gender[1]))"
   ]
  },
  {
   "attachments": {},
   "cell_type": "markdown",
   "metadata": {},
   "source": [
    "### Analisis Peluang pada Variabel Kontinu\n",
    "##### **Apa hubungan antara usia dan kelangsungan hidup penumpang?**\n",
    "Kita dapat menggambarkan distribusi usia dari penumpang yang selamat dan yang tidak selamat menggunakan histogram."
   ]
  },
  {
   "cell_type": "code",
   "execution_count": 47,
   "metadata": {},
   "outputs": [
    {
     "data": {
      "image/png": "[encoded data removed]",
      "text/plain": [
       "<Figure size 640x480 with 1 Axes>"
      ]
     },
     "metadata": {},
     "output_type": "display_data"
    }
   ],
   "source": [
    "# Histogram Usia Penumpang yang Selamat dan Tidak Selamat\n",
    "plt.hist([df[df['Survived']==1]['Age'].dropna(), df[df['Survived']==0]['Age'].dropna()], \n",
    "         bins=30, label=['Survived','Not Survived'], alpha=0.5)\n",
    "plt.xlabel('Usia')\n",
    "plt.ylabel('Frekuensi')\n",
    "plt.title('Distribusi Usia Penumpang yang Selamat dan Tidak Selamat')\n",
    "plt.legend()\n",
    "plt.show()"
   ]
  },
  {
   "attachments": {},
   "cell_type": "markdown",
   "metadata": {},
   "source": [
    "Kita juga dapat menghitung rata-rata usia dari penumpang yang selamat dan yang tidak selamat, serta menghitung standar deviasi usia dari kedua kelompok tersebut."
   ]
  },
  {
   "cell_type": "code",
   "execution_count": 48,
   "metadata": {},
   "outputs": [
    {
     "name": "stdout",
     "output_type": "stream",
     "text": [
      "Rata-rata Usia Penumpang yang Selamat: 28.34 tahun\n",
      "Standar Deviasi Usia Penumpang yang Selamat: 14.95\n",
      "Rata-rata Usia Penumpang yang Tidak Selamat: 30.63 tahun\n",
      "Standar Deviasi Usia Penumpang yang Tidak Selamat: 14.17\n"
     ]
    }
   ],
   "source": [
    "# Rata-rata dan Standar Deviasi Usia Penumpang yang Selamat dan Tidak Selamat\n",
    "mean_age_survived = df[df['Survived']==1]['Age'].mean()\n",
    "std_age_survived = df[df['Survived']==1]['Age'].std()\n",
    "\n",
    "mean_age_not_survived = df[df['Survived']==0]['Age'].mean()\n",
    "std_age_not_survived = df[df['Survived']==0]['Age'].std()\n",
    "\n",
    "print(\"Rata-rata Usia Penumpang yang Selamat: {:.2f} tahun\".format(mean_age_survived))\n",
    "print(\"Standar Deviasi Usia Penumpang yang Selamat: {:.2f}\".format(std_age_survived))\n",
    "\n",
    "print(\"Rata-rata Usia Penumpang yang Tidak Selamat: {:.2f} tahun\".format(mean_age_not_survived))\n",
    "print(\"Standar Deviasi Usia Penumpang yang Tidak Selamat: {:.2f}\".format(std_age_not_survived))"
   ]
  },
  {
   "attachments": {},
   "cell_type": "markdown",
   "metadata": {},
   "source": [
    "### Analisis Korelasi Variabel\n",
    "##### **Apa korelasi antara biaya tiket dan kelas bisnis dengan kelangsungan hidup penumpang?**\n",
    "Kita dapat menggunakan heatmap untuk melihat korelasi antara biaya tiket dan kelas bisnis dengan kelangsungan hidup penumpang."
   ]
  },
  {
   "cell_type": "code",
   "execution_count": 49,
   "metadata": {},
   "outputs": [
    {
     "name": "stderr",
     "output_type": "stream",
     "text": [
      "C:\\Users\\ASUS\\AppData\\Local\\Temp\\ipykernel_25904\\2400529776.py:2: FutureWarning: The default value of numeric_only in DataFrame.corr is deprecated. In a future version, it will default to False. Select only valid columns or specify the value of numeric_only to silence this warning.\n",
      "  sns.heatmap(df.corr(), annot=True, cmap='coolwarm')\n"
     ]
    },
    {
     "data": {
      "image/png": "[encoded data removed]",
      "text/plain": [
       "<Figure size 640x480 with 2 Axes>"
      ]
     },
     "metadata": {},
     "output_type": "display_data"
    }
   ],
   "source": [
    "# Heatmap Korelasi\n",
    "sns.heatmap(df.corr(), annot=True, cmap='coolwarm')\n",
    "plt.title('Korelasi Variabel dalam Dataset Titanic')\n",
    "plt.show()"
   ]
  },
  {
   "attachments": {},
   "cell_type": "markdown",
   "metadata": {},
   "source": [
    "Dari heatmap tersebut, kita dapat melihat bahwa biaya tiket dan kelas bisnis memiliki korelasi yang cukup tinggi dengan kelangsungan hidup penumpang."
   ]
  },
  {
   "attachments": {},
   "cell_type": "markdown",
   "metadata": {},
   "source": [
    "### Pengujian Hipotesis\n",
    "##### **Apakah terdapat perbedaan signifikan antara biaya tiket untuk penumpang yang selamat dan tidak selamat?**\n",
    "Untuk menjawab pertanyaan ini, kita dapat menggunakan uji t-test independen."
   ]
  },
  {
   "cell_type": "code",
   "execution_count": 50,
   "metadata": {},
   "outputs": [
    {
     "name": "stdout",
     "output_type": "stream",
     "text": [
      "Nilai T-statistik: 6.84\n",
      "Nilai P-value: 0.0000\n"
     ]
    }
   ],
   "source": [
    "from scipy.stats import ttest_ind\n",
    "\n",
    "# Biaya Tiket untuk Penumpang yang Selamat dan Tidak Selamat\n",
    "fare_survived = df[df['Survived']==1]['Fare'].dropna()\n",
    "fare_not_survived = df[df['Survived']==0]['Fare'].dropna()\n",
    "\n",
    "# Uji t-Test Independen\n",
    "t,p = ttest_ind(fare_survived, fare_not_survived, equal_var=False)\n",
    "\n",
    "print(\"Nilai T-statistik: {:.2f}\".format(t))\n",
    "print(\"Nilai P-value: {:.4f}\".format(p))"
   ]
  },
  {
   "attachments": {},
   "cell_type": "markdown",
   "metadata": {},
   "source": [
    "Karena nilai p-value kurang dari alpha=0.05, maka kita dapat menolak hipotesis nol dan menyimpulkan bahwa ada perbedaan signifikan antara biaya tiket untuk penumpang yang selamat dan tidak selamat.\n",
    "\n",
    "### Conclusion\n",
    "Berdasarkan analisis probabilitas yang dilakukan pada dataset Titanic, kami dapat menyimpulkan bahwa:\n",
    "\n",
    "1. Persentase penumpang yang selamat dari bencana Titanic adalah 38.38%.\n",
    "2. Terdapat hubungan yang signifikan antara usia dan kelangsungan hidup penumpang, dimana rata-rata usia penumpang yang selamat lebih muda daripada yang tidak selamat.\n",
    "3. Jenis kelamin juga mempengaruhi kemungkinan seseorang selamat dari bencana Titanic, dimana persentase perempuan yang selamat jauh lebih tinggi daripada laki-laki.\n",
    "4. Biaya tiket dan kelas bisnis memiliki korelasi yang cukup tinggi dengan kelangsungan hidup penumpang.\n",
    "5. Ada perbedaan signifikan antara biaya tiket untuk penumpang yang selamat dan tidak selamat.\n",
    "\n",
    "### Further Research\n",
    "Untuk pengembangan lebih lanjut, dapat dilakukan beberapa hal seperti:\n",
    "\n",
    "1. Analisis lebih lanjut terhadap variabel lain yang mungkin mempengaruhi kelangsungan hidup penumpang, seperti lokasi kabin dan keberangkatan.\n",
    "2. Explorasi alasan di balik perbedaan persentase selamat antara laki-laki dan perempuan.\n",
    "3. Penggunaan uji statistik lainnya untuk mengevaluasi korelasi dan perbedaan antar variabel.\n",
    "4. Penerapan model machine learning untuk memprediksi kelangsungan hidup penumpang berdasarkan variabel yang ada dalam dataset.\n",
    "\n",
    "### Reference\n",
    "1. Dataset: https://www.kaggle.com/c/titanic/data\n",
    "2. Pandas Documentation: https://pandas.pydata.org/docs/\n",
    "3. Seaborn Documentation: https://seaborn.pydata.org/"
   ]
  }
 ],
 "metadata": {
  "kernelspec": {
   "display_name": "Python 3",
   "language": "python",
   "name": "python3"
  },
  "language_info": {
   "codemirror_mode": {
    "name": "ipython",
    "version": 3
   },
   "file_extension": ".py",
   "mimetype": "text/x-python",
   "name": "python",
   "nbconvert_exporter": "python",
   "pygments_lexer": "ipython3",
   "version": "3.11.0"
  },
  "orig_nbformat": 4
 },
 "nbformat": 4,
 "nbformat_minor": 2
}
